{
 "cells": [
  {
   "cell_type": "code",
   "execution_count": 1,
   "id": "d29cde01",
   "metadata": {},
   "outputs": [],
   "source": [
    "import torch\n",
    "from torch import cuda as cd"
   ]
  },
  {
   "cell_type": "code",
   "execution_count": 2,
   "id": "70adf5d3",
   "metadata": {},
   "outputs": [
    {
     "data": {
      "text/plain": [
       "True"
      ]
     },
     "execution_count": 2,
     "metadata": {},
     "output_type": "execute_result"
    }
   ],
   "source": [
    "torch.cuda.is_available()"
   ]
  },
  {
   "cell_type": "code",
   "execution_count": 4,
   "id": "c07c1a49",
   "metadata": {},
   "outputs": [],
   "source": [
    "v1 = cd.FloatTensor([1.0, 1.0])\n",
    "v2 = cd.FloatTensor([2.0, 2.0])"
   ]
  },
  {
   "cell_type": "code",
   "execution_count": 9,
   "id": "87da6314",
   "metadata": {},
   "outputs": [
    {
     "data": {
      "text/plain": [
       "tensor([1., 1.], device='cuda:0', dtype=torch.float16,\n",
       "       grad_fn=<ToCopyBackward0>)"
      ]
     },
     "execution_count": 9,
     "metadata": {},
     "output_type": "execute_result"
    }
   ],
   "source": [
    "v1 = torch.tensor([1.0, 1.0], requires_grad=True, dtype=torch.float16)\n",
    "cv = v1.to('cuda'); cv"
   ]
  },
  {
   "cell_type": "code",
   "execution_count": 13,
   "id": "83ff720e",
   "metadata": {},
   "outputs": [
    {
     "data": {
      "text/plain": [
       "tensor(12., grad_fn=<SumBackward0>)"
      ]
     },
     "execution_count": 13,
     "metadata": {},
     "output_type": "execute_result"
    }
   ],
   "source": [
    "v1 = torch.tensor([1.0, 1.0], requires_grad=True)\n",
    "v2 = torch.tensor([2.0, 2.0])\n",
    "v_sum = v1 + v2\n",
    "v_res = (v_sum*2).sum(); v_res"
   ]
  },
  {
   "cell_type": "code",
   "execution_count": 16,
   "id": "03ee208c",
   "metadata": {},
   "outputs": [
    {
     "name": "stdout",
     "output_type": "stream",
     "text": [
      "True True\n",
      "False False\n",
      "True\n",
      "False\n",
      "True\n",
      "True\n"
     ]
    }
   ],
   "source": [
    "print(v1.is_leaf, v2.is_leaf)\n",
    "#(True, True)\n",
    "print(v_sum.is_leaf, v_res.is_leaf)\n",
    "#(False, False)\n",
    "print(v1.requires_grad)\n",
    "#True\n",
    "print(v2.requires_grad)\n",
    "#False\n",
    "print(v_sum.requires_grad)\n",
    "#True\n",
    "print(v_res.requires_grad)\n",
    "#True"
   ]
  },
  {
   "cell_type": "code",
   "execution_count": 17,
   "id": "8ee0df78",
   "metadata": {},
   "outputs": [
    {
     "name": "stdout",
     "output_type": "stream",
     "text": [
      "None\n"
     ]
    },
    {
     "data": {
      "text/plain": [
       "tensor([2., 2.])"
      ]
     },
     "execution_count": 17,
     "metadata": {},
     "output_type": "execute_result"
    }
   ],
   "source": [
    "print(v1.grad)\n",
    "v_res.backward()\n",
    "v1.grad"
   ]
  },
  {
   "cell_type": "code",
   "execution_count": 20,
   "id": "0529352d",
   "metadata": {},
   "outputs": [
    {
     "name": "stdout",
     "output_type": "stream",
     "text": [
      "None\n"
     ]
    }
   ],
   "source": [
    "print(v2.grad)"
   ]
  },
  {
   "cell_type": "code",
   "execution_count": 2,
   "id": "5bd8a513",
   "metadata": {},
   "outputs": [
    {
     "data": {
      "text/plain": [
       "tensor([-0.6698,  0.3323, -0.1244, -1.7146, -1.0995], grad_fn=<AddBackward0>)"
      ]
     },
     "execution_count": 2,
     "metadata": {},
     "output_type": "execute_result"
    }
   ],
   "source": [
    "import torch.nn as nn\n",
    "l = nn.Linear(2, 5)\n",
    "v = torch.FloatTensor([1, 2])\n",
    "l(v)"
   ]
  },
  {
   "cell_type": "code",
   "execution_count": 5,
   "id": "2dacabfe",
   "metadata": {},
   "outputs": [
    {
     "data": {
      "text/plain": [
       "[Parameter containing:\n",
       " tensor([[ 0.2527, -0.2877],\n",
       "         [-0.4889,  0.1065],\n",
       "         [ 0.6992, -0.1670],\n",
       "         [-0.3522, -0.4921],\n",
       "         [-0.1100, -0.4584]], requires_grad=True),\n",
       " Parameter containing:\n",
       " tensor([-0.3471,  0.6083, -0.4896, -0.3781, -0.0727], requires_grad=True)]"
      ]
     },
     "execution_count": 5,
     "metadata": {},
     "output_type": "execute_result"
    }
   ],
   "source": [
    "weights = [x for x in l.parameters()]; weights"
   ]
  },
  {
   "cell_type": "code",
   "execution_count": 6,
   "id": "4d33db06",
   "metadata": {},
   "outputs": [
    {
     "data": {
      "text/plain": [
       "OrderedDict([('weight',\n",
       "              tensor([[ 0.2527, -0.2877],\n",
       "                      [-0.4889,  0.1065],\n",
       "                      [ 0.6992, -0.1670],\n",
       "                      [-0.3522, -0.4921],\n",
       "                      [-0.1100, -0.4584]])),\n",
       "             ('bias', tensor([-0.3471,  0.6083, -0.4896, -0.3781, -0.0727]))])"
      ]
     },
     "execution_count": 6,
     "metadata": {},
     "output_type": "execute_result"
    }
   ],
   "source": [
    "l.state_dict()"
   ]
  },
  {
   "cell_type": "code",
   "execution_count": 7,
   "id": "46cb2d8e",
   "metadata": {},
   "outputs": [
    {
     "data": {
      "text/plain": [
       "Sequential(\n",
       "  (0): Linear(in_features=2, out_features=5, bias=True)\n",
       "  (1): ReLU()\n",
       "  (2): Linear(in_features=5, out_features=20, bias=True)\n",
       "  (3): ReLU()\n",
       "  (4): Linear(in_features=20, out_features=10, bias=True)\n",
       "  (5): Dropout(p=0.3, inplace=False)\n",
       "  (6): Softmax(dim=1)\n",
       ")"
      ]
     },
     "execution_count": 7,
     "metadata": {},
     "output_type": "execute_result"
    }
   ],
   "source": [
    "s = nn.Sequential(nn.Linear(2, 5),\n",
    "                  nn.ReLU(),\n",
    "                  nn.Linear(5, 20),\n",
    "                  nn.ReLU(),\n",
    "                  nn.Linear(20, 10),\n",
    "                  nn.Dropout(p=0.3),\n",
    "                  nn.Softmax(dim=1))\n",
    "s(torch.FloatTensor([[1,2]]))"
   ]
  },
  {
   "cell_type": "code",
   "execution_count": null,
   "id": "0c279a1b",
   "metadata": {},
   "outputs": [],
   "source": []
  }
 ],
 "metadata": {
  "kernelspec": {
   "display_name": "Python 3 (ipykernel)",
   "language": "python",
   "name": "python3"
  },
  "language_info": {
   "codemirror_mode": {
    "name": "ipython",
    "version": 3
   },
   "file_extension": ".py",
   "mimetype": "text/x-python",
   "name": "python",
   "nbconvert_exporter": "python",
   "pygments_lexer": "ipython3",
   "version": "3.9.12"
  }
 },
 "nbformat": 4,
 "nbformat_minor": 5
}
