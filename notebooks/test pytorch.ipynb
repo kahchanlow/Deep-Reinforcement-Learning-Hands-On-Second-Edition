{
 "cells": [
  {
   "cell_type": "code",
   "execution_count": 1,
   "id": "d29cde01",
   "metadata": {},
   "outputs": [],
   "source": [
    "import torch\n",
    "from torch import cuda as cd"
   ]
  },
  {
   "cell_type": "code",
   "execution_count": 2,
   "id": "70adf5d3",
   "metadata": {},
   "outputs": [
    {
     "data": {
      "text/plain": [
       "True"
      ]
     },
     "execution_count": 2,
     "metadata": {},
     "output_type": "execute_result"
    }
   ],
   "source": [
    "torch.cuda.is_available()"
   ]
  },
  {
   "cell_type": "code",
   "execution_count": 4,
   "id": "c07c1a49",
   "metadata": {},
   "outputs": [],
   "source": [
    "v1 = cd.FloatTensor([1.0, 1.0])\n",
    "v2 = cd.FloatTensor([2.0, 2.0])"
   ]
  },
  {
   "cell_type": "code",
   "execution_count": 9,
   "id": "87da6314",
   "metadata": {},
   "outputs": [
    {
     "data": {
      "text/plain": [
       "tensor([1., 1.], device='cuda:0', dtype=torch.float16,\n",
       "       grad_fn=<ToCopyBackward0>)"
      ]
     },
     "execution_count": 9,
     "metadata": {},
     "output_type": "execute_result"
    }
   ],
   "source": [
    "v1 = torch.tensor([1.0, 1.0], requires_grad=True, dtype=torch.float16)\n",
    "cv = v1.to('cuda'); cv"
   ]
  },
  {
   "cell_type": "code",
   "execution_count": 13,
   "id": "83ff720e",
   "metadata": {},
   "outputs": [
    {
     "data": {
      "text/plain": [
       "tensor(12., grad_fn=<SumBackward0>)"
      ]
     },
     "execution_count": 13,
     "metadata": {},
     "output_type": "execute_result"
    }
   ],
   "source": [
    "v1 = torch.tensor([1.0, 1.0], requires_grad=True)\n",
    "v2 = torch.tensor([2.0, 2.0])\n",
    "v_sum = v1 + v2\n",
    "v_res = (v_sum*2).sum(); v_res"
   ]
  },
  {
   "cell_type": "code",
   "execution_count": 16,
   "id": "03ee208c",
   "metadata": {},
   "outputs": [
    {
     "name": "stdout",
     "output_type": "stream",
     "text": [
      "True True\n",
      "False False\n",
      "True\n",
      "False\n",
      "True\n",
      "True\n"
     ]
    }
   ],
   "source": [
    "print(v1.is_leaf, v2.is_leaf)\n",
    "#(True, True)\n",
    "print(v_sum.is_leaf, v_res.is_leaf)\n",
    "#(False, False)\n",
    "print(v1.requires_grad)\n",
    "#True\n",
    "print(v2.requires_grad)\n",
    "#False\n",
    "print(v_sum.requires_grad)\n",
    "#True\n",
    "print(v_res.requires_grad)\n",
    "#True"
   ]
  },
  {
   "cell_type": "code",
   "execution_count": 17,
   "id": "8ee0df78",
   "metadata": {},
   "outputs": [
    {
     "name": "stdout",
     "output_type": "stream",
     "text": [
      "None\n"
     ]
    },
    {
     "data": {
      "text/plain": [
       "tensor([2., 2.])"
      ]
     },
     "execution_count": 17,
     "metadata": {},
     "output_type": "execute_result"
    }
   ],
   "source": [
    "print(v1.grad)\n",
    "v_res.backward()\n",
    "v1.grad"
   ]
  },
  {
   "cell_type": "code",
   "execution_count": 20,
   "id": "0529352d",
   "metadata": {},
   "outputs": [
    {
     "name": "stdout",
     "output_type": "stream",
     "text": [
      "None\n"
     ]
    }
   ],
   "source": [
    "print(v2.grad)"
   ]
  },
  {
   "cell_type": "code",
   "execution_count": 2,
   "id": "5bd8a513",
   "metadata": {},
   "outputs": [
    {
     "data": {
      "text/plain": [
       "tensor([-0.6698,  0.3323, -0.1244, -1.7146, -1.0995], grad_fn=<AddBackward0>)"
      ]
     },
     "execution_count": 2,
     "metadata": {},
     "output_type": "execute_result"
    }
   ],
   "source": [
    "import torch.nn as nn\n",
    "l = nn.Linear(2, 5)\n",
    "v = torch.FloatTensor([1, 2])\n",
    "l(v)"
   ]
  },
  {
   "cell_type": "code",
   "execution_count": 5,
   "id": "4db661fe",
   "metadata": {},
   "outputs": [
    {
     "data": {
      "text/plain": [
       "[Parameter containing:\n",
       " tensor([[ 0.2527, -0.2877],\n",
       "         [-0.4889,  0.1065],\n",
       "         [ 0.6992, -0.1670],\n",
       "         [-0.3522, -0.4921],\n",
       "         [-0.1100, -0.4584]], requires_grad=True),\n",
       " Parameter containing:\n",
       " tensor([-0.3471,  0.6083, -0.4896, -0.3781, -0.0727], requires_grad=True)]"
      ]
     },
     "execution_count": 5,
     "metadata": {},
     "output_type": "execute_result"
    }
   ],
   "source": [
    "weights = [x for x in l.parameters()]; weights"
   ]
  },
  {
   "cell_type": "code",
   "execution_count": 6,
   "id": "b61ac803",
   "metadata": {},
   "outputs": [
    {
     "data": {
      "text/plain": [
       "OrderedDict([('weight',\n",
       "              tensor([[ 0.2527, -0.2877],\n",
       "                      [-0.4889,  0.1065],\n",
       "                      [ 0.6992, -0.1670],\n",
       "                      [-0.3522, -0.4921],\n",
       "                      [-0.1100, -0.4584]])),\n",
       "             ('bias', tensor([-0.3471,  0.6083, -0.4896, -0.3781, -0.0727]))])"
      ]
     },
     "execution_count": 6,
     "metadata": {},
     "output_type": "execute_result"
    }
   ],
   "source": [
    "l.state_dict()"
   ]
  },
  {
   "cell_type": "code",
   "execution_count": 8,
   "id": "5ac5c3c2",
   "metadata": {},
   "outputs": [
    {
     "data": {
      "text/plain": [
       "tensor([[0.1110, 0.0803, 0.1124, 0.0810, 0.0609, 0.0864, 0.1110, 0.1351, 0.1110,\n",
       "         0.1110]], grad_fn=<SoftmaxBackward0>)"
      ]
     },
     "execution_count": 8,
     "metadata": {},
     "output_type": "execute_result"
    }
   ],
   "source": [
    "s = nn.Sequential(nn.Linear(2, 5),\n",
    "                  nn.ReLU(),\n",
    "                  nn.Linear(5, 20),\n",
    "                  nn.ReLU(),\n",
    "                  nn.Linear(20, 10),\n",
    "                  nn.Dropout(p=0.3),\n",
    "                  nn.Softmax(dim=1))\n",
    "s(torch.FloatTensor([[1,2]]))"
   ]
  },
  {
   "cell_type": "code",
   "execution_count": 9,
   "id": "17b30427",
   "metadata": {},
   "outputs": [],
   "source": [
    "class OurModule(nn.Module):\n",
    "    def __init__(self, num_inputs, num_classes, dropout_prob=0.3):\n",
    "        super(OurModule, self).__init__()\n",
    "        self.pipe = nn.Sequential(\n",
    "            nn.Linear(num_inputs, 5),\n",
    "            nn.ReLU(),\n",
    "            nn.Linear(5, 20),\n",
    "            nn.ReLU(),\n",
    "            nn.Linear(20, num_classes),\n",
    "            nn.Dropout(p=dropout_prob),\n",
    "            nn.Softmax(dim=1)\n",
    "        )\n",
    "\n",
    "    def forward(self, x):\n",
    "        return self.pipe(x)\n"
   ]
  },
  {
   "cell_type": "code",
   "execution_count": 23,
   "id": "f0ade3c6",
   "metadata": {},
   "outputs": [
    {
     "name": "stdout",
     "output_type": "stream",
     "text": [
      "False\n",
      "None\n",
      "None\n",
      "False\n"
     ]
    },
    {
     "ename": "AttributeError",
     "evalue": "'OurModule' object has no attribute 'params'",
     "output_type": "error",
     "traceback": [
      "\u001b[1;31m---------------------------------------------------------------------------\u001b[0m",
      "\u001b[1;31mAttributeError\u001b[0m                            Traceback (most recent call last)",
      "Input \u001b[1;32mIn [23]\u001b[0m, in \u001b[0;36m<cell line: 11>\u001b[1;34m()\u001b[0m\n\u001b[0;32m      9\u001b[0m \u001b[38;5;28mprint\u001b[39m(explore1[\u001b[38;5;124m'\u001b[39m\u001b[38;5;124mpipe.0.weight\u001b[39m\u001b[38;5;124m'\u001b[39m]\u001b[38;5;241m.\u001b[39mrequires_grad)\n\u001b[0;32m     10\u001b[0m explore1[\u001b[38;5;124m'\u001b[39m\u001b[38;5;124mpipe.0.weight\u001b[39m\u001b[38;5;124m'\u001b[39m]\u001b[38;5;241m.\u001b[39mgrad\n\u001b[1;32m---> 11\u001b[0m \u001b[43mom\u001b[49m\u001b[38;5;241;43m.\u001b[39;49m\u001b[43mparams\u001b[49m()\n",
      "File \u001b[1;32m~\\Anaconda3\\lib\\site-packages\\torch\\nn\\modules\\module.py:1269\u001b[0m, in \u001b[0;36mModule.__getattr__\u001b[1;34m(self, name)\u001b[0m\n\u001b[0;32m   1267\u001b[0m     \u001b[38;5;28;01mif\u001b[39;00m name \u001b[38;5;129;01min\u001b[39;00m modules:\n\u001b[0;32m   1268\u001b[0m         \u001b[38;5;28;01mreturn\u001b[39;00m modules[name]\n\u001b[1;32m-> 1269\u001b[0m \u001b[38;5;28;01mraise\u001b[39;00m \u001b[38;5;167;01mAttributeError\u001b[39;00m(\u001b[38;5;124m\"\u001b[39m\u001b[38;5;124m'\u001b[39m\u001b[38;5;132;01m{}\u001b[39;00m\u001b[38;5;124m'\u001b[39m\u001b[38;5;124m object has no attribute \u001b[39m\u001b[38;5;124m'\u001b[39m\u001b[38;5;132;01m{}\u001b[39;00m\u001b[38;5;124m'\u001b[39m\u001b[38;5;124m\"\u001b[39m\u001b[38;5;241m.\u001b[39mformat(\n\u001b[0;32m   1270\u001b[0m     \u001b[38;5;28mtype\u001b[39m(\u001b[38;5;28mself\u001b[39m)\u001b[38;5;241m.\u001b[39m\u001b[38;5;18m__name__\u001b[39m, name))\n",
      "\u001b[1;31mAttributeError\u001b[0m: 'OurModule' object has no attribute 'params'"
     ]
    }
   ],
   "source": [
    "om = OurModule(4, 10)\n",
    "explore = om.state_dict()\n",
    "print(explore['pipe.0.weight'].requires_grad)\n",
    "print(explore['pipe.0.weight'].grad)\n",
    "om.zero_grad()\n",
    "print(explore['pipe.0.weight'].grad)\n",
    "explore['pipe.0.weight'].requires_grad = True\n",
    "explore1 = om.state_dict()\n",
    "print(explore1['pipe.0.weight'].requires_grad)\n",
    "explore1['pipe.0.weight'].grad\n",
    "om.parameters()"
   ]
  },
  {
   "cell_type": "code",
   "execution_count": 15,
   "id": "b8ec2089",
   "metadata": {},
   "outputs": [
    {
     "name": "stdout",
     "output_type": "stream",
     "text": [
      "OurModule(\n",
      "  (pipe): Sequential(\n",
      "    (0): Linear(in_features=2, out_features=5, bias=True)\n",
      "    (1): ReLU()\n",
      "    (2): Linear(in_features=5, out_features=20, bias=True)\n",
      "    (3): ReLU()\n",
      "    (4): Linear(in_features=20, out_features=3, bias=True)\n",
      "    (5): Dropout(p=0.3, inplace=False)\n",
      "    (6): Softmax(dim=1)\n",
      "  )\n",
      ")\n",
      "tensor([[0.3223, 0.3256, 0.3521]], grad_fn=<SoftmaxBackward0>)\n",
      "tensor(1., grad_fn=<SumBackward0>)\n"
     ]
    }
   ],
   "source": [
    "net = OurModule(num_inputs=2, num_classes=3)\n",
    "v = torch.FloatTensor([[2, 3]])\n",
    "out = net(v)\n",
    "print(net)\n",
    "print(out)\n",
    "print(out.sum())"
   ]
  },
  {
   "cell_type": "code",
   "execution_count": null,
   "id": "6b255585",
   "metadata": {},
   "outputs": [],
   "source": []
  }
 ],
 "metadata": {
  "kernelspec": {
   "display_name": "Python 3 (ipykernel)",
   "language": "python",
   "name": "python3"
  },
  "language_info": {
   "codemirror_mode": {
    "name": "ipython",
    "version": 3
   },
   "file_extension": ".py",
   "mimetype": "text/x-python",
   "name": "python",
   "nbconvert_exporter": "python",
   "pygments_lexer": "ipython3",
   "version": "3.9.12"
  }
 },
 "nbformat": 4,
 "nbformat_minor": 5
}
