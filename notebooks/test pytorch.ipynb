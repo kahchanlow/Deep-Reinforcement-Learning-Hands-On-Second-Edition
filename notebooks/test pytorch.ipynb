{
 "cells": [
  {
   "cell_type": "code",
   "execution_count": 1,
   "id": "d29cde01",
   "metadata": {},
   "outputs": [],
   "source": [
    "import torch\n",
    "from torch import cuda as cd"
   ]
  },
  {
   "cell_type": "code",
   "execution_count": 2,
   "id": "70adf5d3",
   "metadata": {},
   "outputs": [
    {
     "data": {
      "text/plain": [
       "True"
      ]
     },
     "execution_count": 2,
     "metadata": {},
     "output_type": "execute_result"
    }
   ],
   "source": [
    "torch.cuda.is_available()"
   ]
  },
  {
   "cell_type": "code",
   "execution_count": 4,
   "id": "c07c1a49",
   "metadata": {},
   "outputs": [],
   "source": [
    "v1 = cd.FloatTensor([1.0, 1.0])\n",
    "v2 = cd.FloatTensor([2.0, 2.0])"
   ]
  },
  {
   "cell_type": "code",
   "execution_count": 9,
   "id": "87da6314",
   "metadata": {},
   "outputs": [
    {
     "data": {
      "text/plain": [
       "tensor([1., 1.], device='cuda:0', dtype=torch.float16,\n",
       "       grad_fn=<ToCopyBackward0>)"
      ]
     },
     "execution_count": 9,
     "metadata": {},
     "output_type": "execute_result"
    }
   ],
   "source": [
    "v1 = torch.tensor([1.0, 1.0], requires_grad=True, dtype=torch.float16)\n",
    "cv = v1.to('cuda'); cv"
   ]
  },
  {
   "cell_type": "code",
   "execution_count": 13,
   "id": "83ff720e",
   "metadata": {},
   "outputs": [
    {
     "data": {
      "text/plain": [
       "tensor(12., grad_fn=<SumBackward0>)"
      ]
     },
     "execution_count": 13,
     "metadata": {},
     "output_type": "execute_result"
    }
   ],
   "source": [
    "v1 = torch.tensor([1.0, 1.0], requires_grad=True)\n",
    "v2 = torch.tensor([2.0, 2.0])\n",
    "v_sum = v1 + v2\n",
    "v_res = (v_sum*2).sum(); v_res"
   ]
  },
  {
   "cell_type": "code",
   "execution_count": 16,
   "id": "03ee208c",
   "metadata": {},
   "outputs": [
    {
     "name": "stdout",
     "output_type": "stream",
     "text": [
      "True True\n",
      "False False\n",
      "True\n",
      "False\n",
      "True\n",
      "True\n"
     ]
    }
   ],
   "source": [
    "print(v1.is_leaf, v2.is_leaf)\n",
    "#(True, True)\n",
    "print(v_sum.is_leaf, v_res.is_leaf)\n",
    "#(False, False)\n",
    "print(v1.requires_grad)\n",
    "#True\n",
    "print(v2.requires_grad)\n",
    "#False\n",
    "print(v_sum.requires_grad)\n",
    "#True\n",
    "print(v_res.requires_grad)\n",
    "#True"
   ]
  },
  {
   "cell_type": "code",
   "execution_count": 17,
   "id": "8ee0df78",
   "metadata": {},
   "outputs": [
    {
     "name": "stdout",
     "output_type": "stream",
     "text": [
      "None\n"
     ]
    },
    {
     "data": {
      "text/plain": [
       "tensor([2., 2.])"
      ]
     },
     "execution_count": 17,
     "metadata": {},
     "output_type": "execute_result"
    }
   ],
   "source": [
    "print(v1.grad)\n",
    "v_res.backward()\n",
    "v1.grad"
   ]
  },
  {
   "cell_type": "code",
   "execution_count": 20,
   "id": "0529352d",
   "metadata": {},
   "outputs": [
    {
     "name": "stdout",
     "output_type": "stream",
     "text": [
      "None\n"
     ]
    }
   ],
   "source": [
    "print(v2.grad)"
   ]
  },
  {
   "cell_type": "code",
   "execution_count": 2,
   "id": "5bd8a513",
   "metadata": {},
   "outputs": [
    {
     "data": {
      "text/plain": [
       "tensor([-0.6698,  0.3323, -0.1244, -1.7146, -1.0995], grad_fn=<AddBackward0>)"
      ]
     },
     "execution_count": 2,
     "metadata": {},
     "output_type": "execute_result"
    }
   ],
   "source": [
    "import torch.nn as nn\n",
    "l = nn.Linear(2, 5)\n",
    "v = torch.FloatTensor([1, 2])\n",
    "l(v)"
   ]
  },
  {
   "cell_type": "code",
   "execution_count": 5,
   "id": "ddc808db",
   "metadata": {},
   "outputs": [
    {
     "data": {
      "text/plain": [
       "[Parameter containing:\n",
       " tensor([[ 0.2527, -0.2877],\n",
       "         [-0.4889,  0.1065],\n",
       "         [ 0.6992, -0.1670],\n",
       "         [-0.3522, -0.4921],\n",
       "         [-0.1100, -0.4584]], requires_grad=True),\n",
       " Parameter containing:\n",
       " tensor([-0.3471,  0.6083, -0.4896, -0.3781, -0.0727], requires_grad=True)]"
      ]
     },
     "execution_count": 5,
     "metadata": {},
     "output_type": "execute_result"
    }
   ],
   "source": [
    "weights = [x for x in l.parameters()]; weights"
   ]
  },
  {
   "cell_type": "code",
   "execution_count": 6,
   "id": "973d060d",
   "metadata": {},
   "outputs": [
    {
     "data": {
      "text/plain": [
       "OrderedDict([('weight',\n",
       "              tensor([[ 0.2527, -0.2877],\n",
       "                      [-0.4889,  0.1065],\n",
       "                      [ 0.6992, -0.1670],\n",
       "                      [-0.3522, -0.4921],\n",
       "                      [-0.1100, -0.4584]])),\n",
       "             ('bias', tensor([-0.3471,  0.6083, -0.4896, -0.3781, -0.0727]))])"
      ]
     },
     "execution_count": 6,
     "metadata": {},
     "output_type": "execute_result"
    }
   ],
   "source": [
    "l.state_dict()"
   ]
  },
  {
   "cell_type": "code",
   "execution_count": 8,
   "id": "5fbb42c2",
   "metadata": {},
   "outputs": [
    {
     "data": {
      "text/plain": [
       "tensor([[0.1110, 0.0803, 0.1124, 0.0810, 0.0609, 0.0864, 0.1110, 0.1351, 0.1110,\n",
       "         0.1110]], grad_fn=<SoftmaxBackward0>)"
      ]
     },
     "execution_count": 8,
     "metadata": {},
     "output_type": "execute_result"
    }
   ],
   "source": [
    "s = nn.Sequential(nn.Linear(2, 5),\n",
    "                  nn.ReLU(),\n",
    "                  nn.Linear(5, 20),\n",
    "                  nn.ReLU(),\n",
    "                  nn.Linear(20, 10),\n",
    "                  nn.Dropout(p=0.3),\n",
    "                  nn.Softmax(dim=1))\n",
    "s(torch.FloatTensor([[1,2]]))"
   ]
  },
  {
   "cell_type": "code",
   "execution_count": 9,
   "id": "446ceba0",
   "metadata": {},
   "outputs": [],
   "source": [
    "class OurModule(nn.Module):\n",
    "    def __init__(self, num_inputs, num_classes, dropout_prob=0.3):\n",
    "        super(OurModule, self).__init__()\n",
    "        self.pipe = nn.Sequential(\n",
    "            nn.Linear(num_inputs, 5),\n",
    "            nn.ReLU(),\n",
    "            nn.Linear(5, 20),\n",
    "            nn.ReLU(),\n",
    "            nn.Linear(20, num_classes),\n",
    "            nn.Dropout(p=dropout_prob),\n",
    "            nn.Softmax(dim=1)\n",
    "        )\n",
    "\n",
    "    def forward(self, x):\n",
    "        return self.pipe(x)\n"
   ]
  },
  {
   "cell_type": "code",
   "execution_count": 10,
   "id": "716ebe3b",
   "metadata": {},
   "outputs": [
    {
     "data": {
      "text/plain": [
       "OrderedDict([('pipe.0.weight',\n",
       "              tensor([[-0.2880, -0.1210, -0.1055, -0.3797],\n",
       "                      [-0.0099,  0.0426, -0.4343,  0.0116],\n",
       "                      [-0.4811, -0.0695, -0.4620, -0.0915],\n",
       "                      [ 0.2280,  0.1384, -0.0990,  0.2991],\n",
       "                      [-0.4768, -0.3075,  0.4993,  0.2594]])),\n",
       "             ('pipe.0.bias',\n",
       "              tensor([ 0.2132,  0.4058, -0.4434,  0.2489,  0.4450])),\n",
       "             ('pipe.2.weight',\n",
       "              tensor([[-0.2204,  0.4376, -0.2879, -0.3519, -0.2248],\n",
       "                      [ 0.4456,  0.4019,  0.3911, -0.0035, -0.1829],\n",
       "                      [-0.0843,  0.2125, -0.1950,  0.1722, -0.3968],\n",
       "                      [-0.3543, -0.2289, -0.3621,  0.2675,  0.2198],\n",
       "                      [-0.2762, -0.3255,  0.3971, -0.2064,  0.4366],\n",
       "                      [-0.0321,  0.0683,  0.1667,  0.1833, -0.0089],\n",
       "                      [ 0.2045, -0.1398,  0.3495,  0.0634, -0.1265],\n",
       "                      [ 0.1199, -0.0534, -0.2717, -0.4035,  0.2312],\n",
       "                      [ 0.2527, -0.0799, -0.2197, -0.2013, -0.3993],\n",
       "                      [ 0.3193, -0.1784, -0.3825,  0.1922, -0.4447],\n",
       "                      [ 0.2062,  0.0061, -0.2832,  0.1454, -0.2400],\n",
       "                      [ 0.2221, -0.0946, -0.1191, -0.2471,  0.4386],\n",
       "                      [ 0.1767, -0.0271, -0.2988,  0.4012, -0.0241],\n",
       "                      [ 0.1042,  0.3380,  0.1701, -0.2870, -0.1544],\n",
       "                      [ 0.2204, -0.3295, -0.3977, -0.0238,  0.4130],\n",
       "                      [-0.1340, -0.2565, -0.3058, -0.3904, -0.2741],\n",
       "                      [ 0.3267,  0.2488,  0.1314,  0.0103,  0.2497],\n",
       "                      [-0.0302,  0.1437,  0.3562,  0.2704,  0.2991],\n",
       "                      [-0.1772,  0.1256,  0.3506, -0.1271,  0.2911],\n",
       "                      [-0.2336,  0.2287, -0.2796,  0.2766, -0.1823]])),\n",
       "             ('pipe.2.bias',\n",
       "              tensor([ 0.1471, -0.0562,  0.2382, -0.0300,  0.1441, -0.0659,  0.3585,  0.0527,\n",
       "                      -0.2659, -0.3350,  0.0153, -0.2506, -0.2086,  0.4345, -0.0958, -0.1541,\n",
       "                       0.2777,  0.1398, -0.0560,  0.3661])),\n",
       "             ('pipe.4.weight',\n",
       "              tensor([[ 0.0096, -0.1638, -0.0453, -0.1221, -0.0461,  0.0071,  0.1246,  0.2124,\n",
       "                       -0.0761, -0.0981, -0.0930, -0.0263,  0.0268, -0.0930, -0.1536,  0.1608,\n",
       "                        0.1984, -0.1789,  0.1450, -0.0125],\n",
       "                      [ 0.1189,  0.0290, -0.1281,  0.0774, -0.1168,  0.1841, -0.1521,  0.0956,\n",
       "                       -0.1981, -0.1035, -0.1333, -0.1404, -0.0292,  0.0398,  0.1812,  0.0425,\n",
       "                        0.0061,  0.0642,  0.1184,  0.1646],\n",
       "                      [ 0.0620, -0.2217,  0.0841,  0.0750,  0.0592, -0.0418, -0.1399,  0.0959,\n",
       "                       -0.0662,  0.0030,  0.1625, -0.0118, -0.1906,  0.0371,  0.1253, -0.0352,\n",
       "                        0.0343,  0.1720,  0.1968, -0.0788],\n",
       "                      [-0.1628, -0.0325,  0.0571, -0.0617, -0.1050, -0.1566,  0.0182, -0.1396,\n",
       "                       -0.0758, -0.0029, -0.2067,  0.0862, -0.1415, -0.1285, -0.1751,  0.0151,\n",
       "                        0.1463, -0.2064,  0.1527,  0.2179],\n",
       "                      [ 0.0827,  0.1884, -0.0275,  0.0544,  0.1025, -0.0388,  0.0816, -0.1454,\n",
       "                        0.1133, -0.0334,  0.1036, -0.1972, -0.0603,  0.0717, -0.1801,  0.0123,\n",
       "                       -0.0941, -0.1929,  0.0187,  0.2059],\n",
       "                      [-0.1225, -0.0669,  0.1494, -0.0645,  0.1067, -0.1863,  0.1503, -0.2047,\n",
       "                       -0.0513,  0.1945, -0.1015, -0.2059, -0.1652,  0.0335, -0.0593,  0.0676,\n",
       "                        0.1401, -0.1773,  0.1079, -0.1809],\n",
       "                      [ 0.0720,  0.2095, -0.1688,  0.0115, -0.2038,  0.2218,  0.1331, -0.1728,\n",
       "                       -0.1083,  0.1844,  0.0248, -0.2103,  0.1757, -0.0463,  0.2191,  0.1946,\n",
       "                        0.0692, -0.1451,  0.0898, -0.0788],\n",
       "                      [-0.0848,  0.1051,  0.0594, -0.0782, -0.0371,  0.0851, -0.1116, -0.0524,\n",
       "                        0.0339, -0.0557,  0.1174,  0.1863, -0.2011, -0.0500, -0.2093,  0.0450,\n",
       "                        0.0177,  0.0988, -0.2191,  0.0894],\n",
       "                      [ 0.1405,  0.0344, -0.2022,  0.2083, -0.0226, -0.0926, -0.0858, -0.0390,\n",
       "                       -0.0102, -0.1111, -0.0318, -0.0329,  0.1420,  0.0354, -0.2134, -0.0758,\n",
       "                       -0.1462, -0.0038,  0.1432, -0.1798],\n",
       "                      [-0.1776, -0.0816, -0.0709,  0.0461, -0.1946, -0.2219,  0.1184, -0.2011,\n",
       "                        0.2217, -0.1301, -0.0978, -0.1818, -0.1471, -0.1820,  0.0316,  0.1839,\n",
       "                       -0.1992, -0.0763, -0.1655,  0.0579]])),\n",
       "             ('pipe.4.bias',\n",
       "              tensor([ 0.1653, -0.1121,  0.0504,  0.1372, -0.2037,  0.0825, -0.0180, -0.2221,\n",
       "                       0.2127, -0.1631]))])"
      ]
     },
     "execution_count": 10,
     "metadata": {},
     "output_type": "execute_result"
    }
   ],
   "source": [
    "om = OurModule(4, 10)\n",
    "om.state_dict()"
   ]
  },
  {
   "cell_type": "code",
   "execution_count": null,
   "id": "bd62a3c9",
   "metadata": {},
   "outputs": [],
   "source": []
  }
 ],
 "metadata": {
  "kernelspec": {
   "display_name": "Python 3 (ipykernel)",
   "language": "python",
   "name": "python3"
  },
  "language_info": {
   "codemirror_mode": {
    "name": "ipython",
    "version": 3
   },
   "file_extension": ".py",
   "mimetype": "text/x-python",
   "name": "python",
   "nbconvert_exporter": "python",
   "pygments_lexer": "ipython3",
   "version": "3.9.12"
  }
 },
 "nbformat": 4,
 "nbformat_minor": 5
}
